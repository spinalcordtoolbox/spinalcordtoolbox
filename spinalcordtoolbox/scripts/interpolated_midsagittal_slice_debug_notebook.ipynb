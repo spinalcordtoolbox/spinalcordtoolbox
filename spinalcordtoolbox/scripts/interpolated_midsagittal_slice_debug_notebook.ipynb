{
 "cells": [
  {
   "cell_type": "markdown",
   "id": "85a552e7-9223-4309-87ba-090e24234227",
   "metadata": {},
   "source": [
    "## 1. Create two sagittal slices with a lesion"
   ]
  },
  {
   "cell_type": "code",
   "execution_count": 1,
   "id": "0535f00a-d13f-46c2-9a1e-39ddc0ca98bc",
   "metadata": {},
   "outputs": [],
   "source": [
    "import numpy as np\n",
    "import matplotlib.pyplot as plt"
   ]
  },
  {
   "cell_type": "code",
   "execution_count": 2,
   "id": "6e79a721-6b1a-47f5-830f-54b635c234f0",
   "metadata": {},
   "outputs": [],
   "source": [
    "# Function to plot slices in a 2x1 subplot\n",
    "def plot_slices(slice1, slice2, title1, title2):\n",
    "    fig, (ax1, ax2) = plt.subplots(1, 2, figsize=(6, 4))\n",
    "    \n",
    "    im1 = ax1.imshow(slice1, cmap='gray', vmin=0, vmax=1)\n",
    "    ax1.set_title(title1)\n",
    "    ax1.axis('off')\n",
    "    \n",
    "    im2 = ax2.imshow(slice2, cmap='gray', vmin=0, vmax=1)\n",
    "    ax2.set_title(title2)\n",
    "    ax2.axis('off')\n",
    "    \n",
    "    plt.tight_layout()\n",
    "    plt.show()"
   ]
  },
  {
   "cell_type": "code",
   "execution_count": 3,
   "id": "35b03bba-c2d4-4fbe-8c93-1ca6931ec96a",
   "metadata": {
    "tags": []
   },
   "outputs": [
    {
     "data": {
      "image/png": "[encoded data removed]",
      "text/plain": [
       "<Figure size 600x400 with 2 Axes>"
      ]
     },
     "metadata": {},
     "output_type": "display_data"
    }
   ],
   "source": [
    "# Create two empty 2D arrays representing two sagittal slices\n",
    "slice1 = np.zeros((10, 10))\n",
    "slice2 = np.zeros((10, 10))\n",
    "\n",
    "# Add dummy lesions (1 values) to each slice\n",
    "slice1[2:5, 3:6] = 1\n",
    "slice2[3:7, 4:7] = 1\n",
    "\n",
    "# Plot original slices\n",
    "plot_slices(slice1, slice2, \"Sagittal Slice 1\", \"Sagittal Slice 2\")"
   ]
  },
  {
   "cell_type": "markdown",
   "id": "2611bc13-cd6b-4ede-99fe-5082547f9c07",
   "metadata": {
    "tags": []
   },
   "source": [
    "## 2. Interpolate the slices"
   ]
  },
  {
   "cell_type": "code",
   "execution_count": 4,
   "id": "ffe5378f-e4cb-44fa-8c9a-aa37301b449a",
   "metadata": {},
   "outputs": [
    {
     "data": {
      "image/png": "[encoded data removed]",
      "text/plain": [
       "<Figure size 600x400 with 2 Axes>"
      ]
     },
     "metadata": {},
     "output_type": "display_data"
    }
   ],
   "source": [
    "# Interpolate two slices using linear interplation\n",
    "def interpolate_slices(slice1, slice2, t):\n",
    "    return (1 - t) * slice1 + t * slice2\n",
    "\n",
    "# Create interpolated slices\n",
    "interpolated_05 = interpolate_slices(slice1, slice2, 0.5)\n",
    "interpolated_02 = interpolate_slices(slice1, slice2, 0.2)\n",
    "\n",
    "# Plot interpolated slices\n",
    "plot_slices(interpolated_05, interpolated_02, \"Interpolated Slice (t=0.5)\", \"Interpolated Slice (t=0.2)\")"
   ]
  },
  {
   "cell_type": "markdown",
   "id": "2d0317f8-8062-4684-b181-5e493423c7b7",
   "metadata": {},
   "source": [
    "## 3. Measure lesion length\n",
    "\n",
    "<img src=\"lesion_length.png\" alt=\"lesion length\" style=\"width: 50%;\">"
   ]
  },
  {
   "cell_type": "code",
   "execution_count": 5,
   "id": "adcf734b-9f82-4474-a5e4-c4533626c21c",
   "metadata": {
    "tags": []
   },
   "outputs": [],
   "source": [
    "def measure_length(slice, p_lst, angles_sagittal):\n",
    "    \"\"\"\n",
    "    Measure the length of the lesion along the superior-inferior axis in the provided sagittal slice \n",
    "    when taking into account the angle correction.\n",
    "    :param slice: 2D numpy array: mask of the lesion. Can be binary or soft.\n",
    "    :param p_lst: list, pixel size\n",
    "    :param angles_sagittal: angles for the angle correction\n",
    "    \"\"\"\n",
    "    print(f'{slice}\\n')   # just for debug\n",
    "    \n",
    "    # Get a list of axial slice numbers that are nonzero in the slice\n",
    "    nonzero_axial_slices = np.unique(np.where(slice)[1])  # [1] -> SI\n",
    "\n",
    "    lengths = []\n",
    "    # Loop across SI dimension\n",
    "    for axial_slice in nonzero_axial_slices:\n",
    "        array = slice[:, axial_slice]   # 2D -> 1D\n",
    "        # Compute the mean of nonzero values\n",
    "        nonzero_values = array[array > 0]\n",
    "        mean_nonzero = np.mean(nonzero_values)\n",
    "        # Compute the length for a given axial slice when taking into account \n",
    "        # the angle correction. Moreover, the length is weighted to account\n",
    "        # for the softness (caused by the interpolation of two slices)\n",
    "        length = mean_nonzero * p_lst[2] / np.cos(angles_sagittal[axial_slice])   # p_lst[2] -> pixel size of SI axis\n",
    "        lengths.append(length)\n",
    "        print(f'{array}; mean={mean_nonzero}; length={length}mm')   # just for debug\n",
    "\n",
    "    length = np.sum(lengths)\n",
    "    print(f'Total length={length}mm')"
   ]
  },
  {
   "cell_type": "code",
   "execution_count": 6,
   "id": "a0bff006-b3a5-463e-8161-f1b94b2368db",
   "metadata": {
    "tags": []
   },
   "outputs": [],
   "source": [
    "# Dummy variables for debugging\n",
    "p_lst = (2.75, 0.34375, 0.34375)   # T2w sag pixdim\n",
    "angles_sagittal = np.linspace(0.1, 0.5, interpolated_02.shape[1])   # Angles between the centerline and axial slices"
   ]
  },
  {
   "cell_type": "markdown",
   "id": "5300bf00-7094-41d1-8507-9d71c551c23a",
   "metadata": {},
   "source": [
    "### Non-Interpolated slice (i.e., binary mask)"
   ]
  },
  {
   "cell_type": "code",
   "execution_count": 7,
   "id": "d2cc9704-765a-44e2-a194-8919cf973965",
   "metadata": {
    "tags": []
   },
   "outputs": [
    {
     "name": "stdout",
     "output_type": "stream",
     "text": [
      "[[0. 0. 0. 0. 0. 0. 0. 0. 0. 0.]\n",
      " [0. 0. 0. 0. 0. 0. 0. 0. 0. 0.]\n",
      " [0. 0. 0. 1. 1. 1. 0. 0. 0. 0.]\n",
      " [0. 0. 0. 1. 1. 1. 0. 0. 0. 0.]\n",
      " [0. 0. 0. 1. 1. 1. 0. 0. 0. 0.]\n",
      " [0. 0. 0. 0. 0. 0. 0. 0. 0. 0.]\n",
      " [0. 0. 0. 0. 0. 0. 0. 0. 0. 0.]\n",
      " [0. 0. 0. 0. 0. 0. 0. 0. 0. 0.]\n",
      " [0. 0. 0. 0. 0. 0. 0. 0. 0. 0.]\n",
      " [0. 0. 0. 0. 0. 0. 0. 0. 0. 0.]]\n",
      "\n",
      "[0. 0. 1. 1. 1. 0. 0. 0. 0. 0.]; mean=1.0; length=0.3533247247819547mm\n",
      "[0. 0. 1. 1. 1. 0. 0. 0. 0. 0.]; mean=1.0; length=0.3574521457247015mm\n",
      "[0. 0. 1. 1. 1. 0. 0. 0. 0. 0.]; mean=1.0; length=0.3624013332202656mm\n",
      "Total length=1.0731782037269217mm\n"
     ]
    }
   ],
   "source": [
    "measure_length(slice1, p_lst, angles_sagittal)"
   ]
  },
  {
   "cell_type": "markdown",
   "id": "2086b3cf-a00c-4017-9277-db37a07af5f7",
   "metadata": {},
   "source": [
    "### Interpolated slice (soft mask)"
   ]
  },
  {
   "cell_type": "code",
   "execution_count": 8,
   "id": "5bb5c5d7-8b72-4313-aa60-43820b8973bd",
   "metadata": {
    "tags": []
   },
   "outputs": [
    {
     "name": "stdout",
     "output_type": "stream",
     "text": [
      "[[0.  0.  0.  0.  0.  0.  0.  0.  0.  0. ]\n",
      " [0.  0.  0.  0.  0.  0.  0.  0.  0.  0. ]\n",
      " [0.  0.  0.  0.8 0.8 0.8 0.  0.  0.  0. ]\n",
      " [0.  0.  0.  0.8 1.  1.  0.2 0.  0.  0. ]\n",
      " [0.  0.  0.  0.8 1.  1.  0.2 0.  0.  0. ]\n",
      " [0.  0.  0.  0.  0.2 0.2 0.2 0.  0.  0. ]\n",
      " [0.  0.  0.  0.  0.2 0.2 0.2 0.  0.  0. ]\n",
      " [0.  0.  0.  0.  0.  0.  0.  0.  0.  0. ]\n",
      " [0.  0.  0.  0.  0.  0.  0.  0.  0.  0. ]\n",
      " [0.  0.  0.  0.  0.  0.  0.  0.  0.  0. ]]\n",
      "\n",
      "[0.  0.  0.8 0.8 0.8 0.  0.  0.  0.  0. ]; mean=0.8000000000000002; length=0.28265977982556384mm\n",
      "[0.  0.  0.8 1.  1.  0.2 0.2 0.  0.  0. ]; mean=0.64; length=0.22876937326380897mm\n",
      "[0.  0.  0.8 1.  1.  0.2 0.2 0.  0.  0. ]; mean=0.64; length=0.23193685326096997mm\n",
      "[0.  0.  0.  0.2 0.2 0.2 0.2 0.  0.  0. ]; mean=0.2; length=0.07364538958318mm\n",
      "Total length=0.8170113959335229mm\n"
     ]
    }
   ],
   "source": [
    "measure_length(interpolated_02, p_lst, angles_sagittal)"
   ]
  },
  {
   "cell_type": "markdown",
   "id": "61e309a4-ebd2-41da-be01-f6c37125ced2",
   "metadata": {},
   "source": [
    "## 4. Measure lesion width\n",
    "\n",
    "<img src=\"lesion_width.png\" alt=\"lesion width\" style=\"width: 50%;\">"
   ]
  },
  {
   "cell_type": "code",
   "execution_count": 9,
   "id": "874fc038-d12e-43e6-9369-409ab8a5e2ad",
   "metadata": {
    "tags": []
   },
   "outputs": [],
   "source": [
    "def measure_width(slice, p_lst, angles_sagittal):\n",
    "    \"\"\"\n",
    "    Measure the width of the lesion along the anterior-posterior axis in the provided sagittal slice \n",
    "    when taking into account the angle correction.\n",
    "    :param slice: 2D numpy array: mask of the lesion. Can be binary or soft.\n",
    "    :param p_lst: list, pixel size\n",
    "    :param angles_sagittal: angles for the angle correction\n",
    "    \"\"\"\n",
    "    print(f'{slice}\\n')   # just for debug\n",
    "    \n",
    "    # Get a list of axial slice numbers that are nonzero in the slice\n",
    "    nonzero_axial_slices = np.unique(np.where(slice)[1])  # [1] -> SI\n",
    "\n",
    "    # Iterate across axial slices to compute lesion width\n",
    "    lesion_width_dict = {}\n",
    "    for axial_slice in nonzero_axial_slices:\n",
    "        array = slice[:, axial_slice]  # 2D -> 1D; dim=[AP]\n",
    "        # Compute weighted sum of nonzero values\n",
    "        lesion_width_dict[axial_slice] = np.sum(array[array > 0])\n",
    "        print(f'{array}; sum={np.sum(array[array > 0])}')   # just for debug\n",
    "\n",
    "    # Get the width in mm and apply the angle correction\n",
    "    width_cur_dict = {axial_slice: p_lst[1] * np.cos(angles_sagittal[axial_slice]) * lesion_width  # p_lst[1] -> pixel size of AP axis\n",
    "                      for axial_slice, lesion_width in lesion_width_dict.items()}\n",
    "\n",
    "    # Get the maximum width across all axial slices\n",
    "    # Check if width_cur_dict is empty, if so, it means that the lesion does not exist in the midsagittal slice.\n",
    "    # In this case, set the width to 0\n",
    "    width_cur = max(width_cur_dict.values()) if width_cur_dict else 0\n",
    "    print(f'Maximum width (after angle correction and considering {p_lst[1]} pixel size)={width_cur}mm')"
   ]
  },
  {
   "cell_type": "markdown",
   "id": "8bb8be53-f309-4691-a527-64466b80724b",
   "metadata": {},
   "source": [
    "### Non-Interpolated slice (i.e., binary mask)"
   ]
  },
  {
   "cell_type": "code",
   "execution_count": 10,
   "id": "d7a1f198-a6b2-4662-8d64-49e4d87c5915",
   "metadata": {
    "tags": []
   },
   "outputs": [
    {
     "name": "stdout",
     "output_type": "stream",
     "text": [
      "[[0. 0. 0. 0. 0. 0. 0. 0. 0. 0.]\n",
      " [0. 0. 0. 0. 0. 0. 0. 0. 0. 0.]\n",
      " [0. 0. 0. 1. 1. 1. 0. 0. 0. 0.]\n",
      " [0. 0. 0. 1. 1. 1. 0. 0. 0. 0.]\n",
      " [0. 0. 0. 1. 1. 1. 0. 0. 0. 0.]\n",
      " [0. 0. 0. 0. 0. 0. 0. 0. 0. 0.]\n",
      " [0. 0. 0. 0. 0. 0. 0. 0. 0. 0.]\n",
      " [0. 0. 0. 0. 0. 0. 0. 0. 0. 0.]\n",
      " [0. 0. 0. 0. 0. 0. 0. 0. 0. 0.]\n",
      " [0. 0. 0. 0. 0. 0. 0. 0. 0. 0.]]\n",
      "\n",
      "[0. 0. 1. 1. 1. 0. 0. 0. 0. 0.]; sum=3.0\n",
      "[0. 0. 1. 1. 1. 0. 0. 0. 0. 0.]; sum=3.0\n",
      "[0. 0. 1. 1. 1. 0. 0. 0. 0. 0.]; sum=3.0\n",
      "Maximum width (after angle correction and considering 0.34375 pixel size)=1.0033042202714961mm\n"
     ]
    }
   ],
   "source": [
    "measure_width(slice1, p_lst, angles_sagittal)"
   ]
  },
  {
   "cell_type": "markdown",
   "id": "2c803d09-1552-4bf9-97f8-8ab74ee8d762",
   "metadata": {},
   "source": [
    "### Interpolated slice (soft mask)"
   ]
  },
  {
   "cell_type": "code",
   "execution_count": 11,
   "id": "82069cd6-44cf-4bac-93f5-df8215b54135",
   "metadata": {
    "tags": []
   },
   "outputs": [
    {
     "name": "stdout",
     "output_type": "stream",
     "text": [
      "[[0.  0.  0.  0.  0.  0.  0.  0.  0.  0. ]\n",
      " [0.  0.  0.  0.  0.  0.  0.  0.  0.  0. ]\n",
      " [0.  0.  0.  0.8 0.8 0.8 0.  0.  0.  0. ]\n",
      " [0.  0.  0.  0.8 1.  1.  0.2 0.  0.  0. ]\n",
      " [0.  0.  0.  0.8 1.  1.  0.2 0.  0.  0. ]\n",
      " [0.  0.  0.  0.  0.2 0.2 0.2 0.  0.  0. ]\n",
      " [0.  0.  0.  0.  0.2 0.2 0.2 0.  0.  0. ]\n",
      " [0.  0.  0.  0.  0.  0.  0.  0.  0.  0. ]\n",
      " [0.  0.  0.  0.  0.  0.  0.  0.  0.  0. ]\n",
      " [0.  0.  0.  0.  0.  0.  0.  0.  0.  0. ]]\n",
      "\n",
      "[0.  0.  0.8 0.8 0.8 0.  0.  0.  0.  0. ]; sum=2.4000000000000004\n",
      "[0.  0.  0.8 1.  1.  0.2 0.2 0.  0.  0. ]; sum=3.2\n",
      "[0.  0.  0.8 1.  1.  0.2 0.2 0.  0.  0. ]; sum=3.2\n",
      "[0.  0.  0.  0.2 0.2 0.2 0.2 0.  0.  0. ]; sum=0.8\n",
      "Maximum width (after angle correction and considering 0.34375 pixel size)=1.0578339073427192mm\n"
     ]
    }
   ],
   "source": [
    "measure_width(interpolated_02, p_lst, angles_sagittal)"
   ]
  },
  {
   "cell_type": "code",
   "execution_count": null,
   "id": "5f26010c-c50e-4a9a-8d71-356877e3d9d7",
   "metadata": {},
   "outputs": [],
   "source": []
  }
 ],
 "metadata": {
  "kernelspec": {
   "display_name": "Python 3 (ipykernel)",
   "language": "python",
   "name": "python3"
  },
  "language_info": {
   "codemirror_mode": {
    "name": "ipython",
    "version": 3
   },
   "file_extension": ".py",
   "mimetype": "text/x-python",
   "name": "python",
   "nbconvert_exporter": "python",
   "pygments_lexer": "ipython3",
   "version": "3.11.5"
  }
 },
 "nbformat": 4,
 "nbformat_minor": 5
}
